{
  "nbformat": 4,
  "nbformat_minor": 0,
  "metadata": {
    "colab": {
      "provenance": []
    },
    "kernelspec": {
      "name": "python3",
      "display_name": "Python 3"
    },
    "language_info": {
      "name": "python"
    }
  },
  "cells": [
    {
      "cell_type": "code",
      "execution_count": null,
      "metadata": {
        "id": "0TICTfdJQs7E"
      },
      "outputs": [],
      "source": []
    },
    {
      "cell_type": "markdown",
      "source": [
        "***1. Explain the key features of python that make it popular choice for programming.***\n",
        "\n",
        "--> **Readability and simplicity :** Python sintax is clean and straightforward.It is easy to learn and use for its simple language.\n",
        "\n",
        "**Versatility:**  It's used in web development, deta analytics/science(pandas, NumPy),machine learning, automation, scripting etc.\n",
        "\n",
        "**Large Ecosystem**: Python's standard library is huge, and its pakage manager, pip, gives access to over 400,000 libraries. This nature of the language saves time and effort.\n",
        "\n",
        "**community and support**: Python has one of the largest, ost active developer communities.\n",
        "\n",
        "That's why Python is everywhere - it's parctical , approachable , and powerful without being intimidating."
      ],
      "metadata": {
        "id": "CA9UsJ4PQ68u"
      }
    },
    {
      "cell_type": "markdown",
      "source": [
        "**2.Describe the role of predefined keywords in Python and provide examples of how they are used in a program**.\n",
        "\n",
        "--> **Role of Predefined Keywords**\n",
        "\n",
        "**Control Flow**: Keywords like ***if, else, elif, for, while,*** and break manage the execution flow of a program.\n",
        "\n",
        "**Function and Class Definition:** Keywords such as ***def, class***, and ***return*** are used to define functions, classes, and their behavior.\n",
        "\n",
        "**Exception Handling**: Keywords like*** try, except, finally,*** and raise handle errors and exceptions.\n",
        "\n",
        "**Logical Operations:** Keywords such as and, or, and not perform logical operations.\n",
        "\n",
        "**Data Management**: Keywords like ***True, False, None,*** in, and is help manage and evaluate data."
      ],
      "metadata": {
        "id": "6OjQ8hgSWp-G"
      }
    },
    {
      "cell_type": "markdown",
      "source": [
        "#if elif else conditional statements."
      ],
      "metadata": {
        "id": "42k2pwK1WxjO"
      }
    },
    {
      "cell_type": "code",
      "source": [
        "age = 20\n",
        "if age >= 18:\n",
        "    print(\"You are an adult.\")\n",
        "elif age > 0:\n",
        "    print(\"You are a minor.\")\n",
        "else:\n",
        "    print(\"Invalid age.\")"
      ],
      "metadata": {
        "colab": {
          "base_uri": "https://localhost:8080/"
        },
        "id": "8sJhyUdNYrf0",
        "outputId": "6bd3f5cc-c835-46a8-8789-5334d5c58a92"
      },
      "execution_count": null,
      "outputs": [
        {
          "output_type": "stream",
          "name": "stdout",
          "text": [
            "You are an adult.\n"
          ]
        }
      ]
    },
    {
      "cell_type": "markdown",
      "source": [
        "for and break loops control"
      ],
      "metadata": {
        "id": "AGfHRJLGZc4B"
      }
    },
    {
      "cell_type": "code",
      "source": [
        "for i in range(5):\n",
        "    if i == 3:\n",
        "        break\n",
        "    print(i)"
      ],
      "metadata": {
        "colab": {
          "base_uri": "https://localhost:8080/"
        },
        "id": "Z5aoOU_EZRU7",
        "outputId": "51e73cef-8c46-4744-9dd7-160a148eb596"
      },
      "execution_count": null,
      "outputs": [
        {
          "output_type": "stream",
          "name": "stdout",
          "text": [
            "0\n",
            "1\n",
            "2\n"
          ]
        }
      ]
    },
    {
      "cell_type": "markdown",
      "source": [
        "def and return - Function Definition"
      ],
      "metadata": {
        "id": "gjs-WES_cPom"
      }
    },
    {
      "cell_type": "code",
      "source": [
        "def add_numbers(a, b):\n",
        "    return a + b\n",
        "\n",
        "result = add_numbers(5, 3)\n",
        "print(result)"
      ],
      "metadata": {
        "colab": {
          "base_uri": "https://localhost:8080/"
        },
        "id": "b7QM-msaZnft",
        "outputId": "8465a993-047c-40ca-cc98-2e01a2a0fb11"
      },
      "execution_count": null,
      "outputs": [
        {
          "output_type": "stream",
          "name": "stdout",
          "text": [
            "8\n"
          ]
        }
      ]
    },
    {
      "cell_type": "markdown",
      "source": [
        "try, except - Exception Handling"
      ],
      "metadata": {
        "id": "EXVnKQEBcbXG"
      }
    },
    {
      "cell_type": "code",
      "source": [
        "try:\n",
        "    number = int(input(\"Enter a number: \"))\n",
        "    print(10 / number)\n",
        "except ZeroDivisionError:\n",
        "    print(\"Cannot divide by zero!\")"
      ],
      "metadata": {
        "id": "j2jBj-NRdADa",
        "colab": {
          "base_uri": "https://localhost:8080/"
        },
        "outputId": "ee1b3fd6-5e2e-4fbe-d750-d190047df1f1"
      },
      "execution_count": 1,
      "outputs": [
        {
          "output_type": "stream",
          "name": "stdout",
          "text": [
            "Enter a number: 7\n",
            "1.4285714285714286\n"
          ]
        }
      ]
    },
    {
      "cell_type": "markdown",
      "source": [
        "and, or, not - Logical Operations"
      ],
      "metadata": {
        "id": "MjPZaiiBdTrK"
      }
    },
    {
      "cell_type": "code",
      "source": [
        "x = 10\n",
        "y = 5\n",
        "if x > 0 and y < 10:\n",
        "    print(\"Both conditions are true.\")\n",
        "if not x == y:\n",
        "    print(\"x is not equal to y.\")"
      ],
      "metadata": {
        "id": "Uuvho_cYdkE-",
        "colab": {
          "base_uri": "https://localhost:8080/"
        },
        "outputId": "2d794862-5be8-4c71-da02-c0883ec2442c"
      },
      "execution_count": 2,
      "outputs": [
        {
          "output_type": "stream",
          "name": "stdout",
          "text": [
            "Both conditions are true.\n",
            "x is not equal to y.\n"
          ]
        }
      ]
    },
    {
      "cell_type": "markdown",
      "source": [
        "import - Module Inclusion"
      ],
      "metadata": {
        "id": "7J2bAppseMBA"
      }
    },
    {
      "cell_type": "code",
      "source": [
        "import math\n",
        "print(math.sqrt(16))"
      ],
      "metadata": {
        "id": "ouJeqKI9eUFP"
      },
      "execution_count": null,
      "outputs": []
    },
    {
      "cell_type": "markdown",
      "source": [
        "**3.Compare and contrast mutable and immutable objects in Python with examples**\n",
        "\n",
        "**Comparison between Mutable and Immutable Objects in Python**\n",
        "\n",
        "In Python, objects are classified into two types based on their ability to be modified after creation: mutable and immutable objects.\n",
        "\n",
        "***Mutable objects are those whose values can be changed or modified after the object is created.*** This means, when we make any changes to a mutable object, its memory address (identity) remains the same. Common examples of mutable objects in Python include lists, dictionaries, sets, and bytearrays. For instance, if we create a list a = [1, 2, 3] and modify an element like a[0] = 100, the list becomes [100, 2, 3], but the memory address of a remains unchanged.\n",
        "\n",
        "On the other hand, i***mmutable objects are those whose values cannot be changed after creation. If we try to modify an immutable object***, Python creates a completely new object with a different memory address. Examples of immutable objects in Python include integers, floats, strings, tuples, frozensets, and booleans. For example, if we have a string s = \"Hello\" and we concatenate another string like s = s + \" World\", the new string \"Hello World\" is created at a different memory address.\n",
        "\n",
        "In summary, mutable objects allow modification in-place without changing their identity, while immutable objects cannot be changed once created — any modification results in the creation of a new object. Mutable objects include lists, dictionaries, and sets, whereas immutable objects include integers, floats, strings, and tuples."
      ],
      "metadata": {
        "id": "Yxz1CwXPpZYh"
      }
    },
    {
      "cell_type": "code",
      "source": [
        "A = [3, 5, 7]\n",
        "A[0]"
      ],
      "metadata": {
        "colab": {
          "base_uri": "https://localhost:8080/"
        },
        "id": "u1Nt6FmcqIvR",
        "outputId": "73e0fd50-86c5-4de1-ff3a-0c6088792a6f"
      },
      "execution_count": 4,
      "outputs": [
        {
          "output_type": "execute_result",
          "data": {
            "text/plain": [
              "3"
            ]
          },
          "metadata": {},
          "execution_count": 4
        }
      ]
    },
    {
      "cell_type": "markdown",
      "source": [],
      "metadata": {
        "id": "M8E6xm4XpW4L"
      }
    },
    {
      "cell_type": "code",
      "source": [
        "A[0]=9\n",
        "print(A) # example of mutability\n",
        "         # hence, list is a mutable object"
      ],
      "metadata": {
        "colab": {
          "base_uri": "https://localhost:8080/"
        },
        "id": "GEEmPFHrqVoj",
        "outputId": "880c82b5-e20d-4f66-b5c0-eb5cd4c7458c"
      },
      "execution_count": 6,
      "outputs": [
        {
          "output_type": "stream",
          "name": "stdout",
          "text": [
            "[9, 5, 7]\n"
          ]
        }
      ]
    },
    {
      "cell_type": "code",
      "source": [
        " c = \"soumik\"\n",
        " c[5]\n"
      ],
      "metadata": {
        "colab": {
          "base_uri": "https://localhost:8080/",
          "height": 36
        },
        "id": "DUu8qYXiqd2Y",
        "outputId": "3f50c9bc-550a-4f71-8d43-9b46e2087a74"
      },
      "execution_count": 7,
      "outputs": [
        {
          "output_type": "execute_result",
          "data": {
            "text/plain": [
              "'k'"
            ],
            "application/vnd.google.colaboratory.intrinsic+json": {
              "type": "string"
            }
          },
          "metadata": {},
          "execution_count": 7
        }
      ]
    },
    {
      "cell_type": "code",
      "source": [
        "\n",
        "c[5] = j # error occurs hence string is a immutable object"
      ],
      "metadata": {
        "colab": {
          "base_uri": "https://localhost:8080/",
          "height": 166
        },
        "id": "m_L7zMHarJtL",
        "outputId": "0e9f2720-6ed8-4497-9baf-2fe072d9d0df"
      },
      "execution_count": 9,
      "outputs": [
        {
          "output_type": "error",
          "ename": "NameError",
          "evalue": "name 'j' is not defined",
          "traceback": [
            "\u001b[0;31m---------------------------------------------------------------------------\u001b[0m",
            "\u001b[0;31mNameError\u001b[0m                                 Traceback (most recent call last)",
            "\u001b[0;32m<ipython-input-9-63b46c4e6759>\u001b[0m in \u001b[0;36m<cell line: 0>\u001b[0;34m()\u001b[0m\n\u001b[1;32m      1\u001b[0m \u001b[0;32mfrom\u001b[0m \u001b[0mposixpath\u001b[0m \u001b[0;32mimport\u001b[0m \u001b[0mjoin\u001b[0m\u001b[0;34m\u001b[0m\u001b[0;34m\u001b[0m\u001b[0m\n\u001b[0;32m----> 2\u001b[0;31m \u001b[0mc\u001b[0m\u001b[0;34m[\u001b[0m\u001b[0;36m5\u001b[0m\u001b[0;34m]\u001b[0m \u001b[0;34m=\u001b[0m \u001b[0mj\u001b[0m\u001b[0;34m\u001b[0m\u001b[0;34m\u001b[0m\u001b[0m\n\u001b[0m",
            "\u001b[0;31mNameError\u001b[0m: name 'j' is not defined"
          ]
        }
      ]
    },
    {
      "cell_type": "markdown",
      "source": [
        "4.**Discuss the different types of operators in Python and provide examples of how they are used**\n",
        "==>Arithmetic Operators:"
      ],
      "metadata": {
        "id": "E2OdiHEirt_q"
      }
    },
    {
      "cell_type": "code",
      "source": [
        "a, b = 10, 3\n",
        "print(a+b, a-b, a*b, a/b, a%b, a//b, a**b)\n"
      ],
      "metadata": {
        "colab": {
          "base_uri": "https://localhost:8080/"
        },
        "id": "0Rv62qhnrtdM",
        "outputId": "801e424e-7400-4089-fc23-cec9304e120f"
      },
      "execution_count": 10,
      "outputs": [
        {
          "output_type": "stream",
          "name": "stdout",
          "text": [
            "13 7 30 3.3333333333333335 1 3 1000\n"
          ]
        }
      ]
    },
    {
      "cell_type": "markdown",
      "source": [
        "**2.comparision operators.**"
      ],
      "metadata": {
        "id": "Ev85-CS9sgS0"
      }
    },
    {
      "cell_type": "code",
      "source": [
        "x , y = 10 , 5\n",
        "print(x == y, x != y, x > y, x < y, x >= y, x <= y)\n"
      ],
      "metadata": {
        "colab": {
          "base_uri": "https://localhost:8080/"
        },
        "id": "z2RSUm6KsJd4",
        "outputId": "5b915389-705e-4229-9981-2a24379f510f"
      },
      "execution_count": 11,
      "outputs": [
        {
          "output_type": "stream",
          "name": "stdout",
          "text": [
            "False True True False True False\n"
          ]
        }
      ]
    },
    {
      "cell_type": "markdown",
      "source": [
        "**3.Logical operators:**"
      ],
      "metadata": {
        "id": "iqFnSdfBtxl9"
      }
    },
    {
      "cell_type": "code",
      "source": [
        "x, y = True, False\n",
        "print(x and y, x or y, not x)\n"
      ],
      "metadata": {
        "colab": {
          "base_uri": "https://localhost:8080/"
        },
        "id": "rGCuIFLIt2-g",
        "outputId": "c6ba35b1-56af-4b2b-f37d-274b9f5b25bc"
      },
      "execution_count": 12,
      "outputs": [
        {
          "output_type": "stream",
          "name": "stdout",
          "text": [
            "False True False\n"
          ]
        }
      ]
    },
    {
      "cell_type": "markdown",
      "source": [
        "**4.Assignment operators:**"
      ],
      "metadata": {
        "id": "7OXe9R_NuBFw"
      }
    },
    {
      "cell_type": "code",
      "source": [
        "x = 5\n",
        "x += 3\n",
        "x *= 2\n",
        "print(x)\n"
      ],
      "metadata": {
        "colab": {
          "base_uri": "https://localhost:8080/"
        },
        "id": "k5eBvg0JuIJy",
        "outputId": "b4cfa781-cecb-47e9-885a-8c2fe39abb07"
      },
      "execution_count": 13,
      "outputs": [
        {
          "output_type": "stream",
          "name": "stdout",
          "text": [
            "16\n"
          ]
        }
      ]
    },
    {
      "cell_type": "markdown",
      "source": [
        "**5.Bitwise operators:**"
      ],
      "metadata": {
        "id": "f1j6xveYuUfC"
      }
    },
    {
      "cell_type": "code",
      "source": [
        "x, y = 5, 3\n",
        "print(x & y, x | y, x ^ y, ~x, x << 1, x >> 1)\n"
      ],
      "metadata": {
        "colab": {
          "base_uri": "https://localhost:8080/"
        },
        "id": "hKsrWckSubHE",
        "outputId": "4e6bf520-adf3-4d80-cb63-f4a53747ebc3"
      },
      "execution_count": 14,
      "outputs": [
        {
          "output_type": "stream",
          "name": "stdout",
          "text": [
            "1 7 6 -6 10 2\n"
          ]
        }
      ]
    },
    {
      "cell_type": "markdown",
      "source": [
        "**6. Membership Operators**"
      ],
      "metadata": {
        "id": "Z7wwHqfiuqSa"
      }
    },
    {
      "cell_type": "code",
      "source": [
        "\n",
        "lst = [1, 2, 3]\n",
        "print(2 in lst, 5 not in lst)"
      ],
      "metadata": {
        "colab": {
          "base_uri": "https://localhost:8080/"
        },
        "id": "YXWOQtyQukQn",
        "outputId": "610bb662-7187-48cd-beab-46da2ee88035"
      },
      "execution_count": 15,
      "outputs": [
        {
          "output_type": "stream",
          "name": "stdout",
          "text": [
            "True True\n"
          ]
        }
      ]
    },
    {
      "cell_type": "markdown",
      "source": [
        "**7.Identity Operators**"
      ],
      "metadata": {
        "id": "MWnCFY69u6H3"
      }
    },
    {
      "cell_type": "code",
      "source": [
        "x = [1, 2]\n",
        "y = x\n",
        "z = [1, 2]\n",
        "print(x is y, x is z, x is not z)\n"
      ],
      "metadata": {
        "id": "jdXYmqrPuxtb"
      },
      "execution_count": null,
      "outputs": []
    },
    {
      "cell_type": "markdown",
      "source": [
        "**5.Explain the concept of type casting in Python with examples**\n",
        "\n",
        "Type Casting in Python refers to converting one data type into another. It helps in changing the type of a variable to perform operations between different data types.\n",
        "\n",
        "There are two types of Type Casting:\n",
        "\n",
        "1.** Implicit Type Casting**\n",
        "\n",
        "→ Done automatically by Python."
      ],
      "metadata": {
        "id": "phgXlV-gxG0K"
      }
    },
    {
      "cell_type": "code",
      "source": [
        "a = 5        # int\n",
        "b = 2.5      # float\n",
        "c = a + b    # int + float → result will be float\n",
        "print(c)\n",
        "print(type(c))\n"
      ],
      "metadata": {
        "colab": {
          "base_uri": "https://localhost:8080/"
        },
        "id": "qTNjsB5ExqvH",
        "outputId": "6821728f-10b9-42cc-d6e2-6a7a7bb540c0"
      },
      "execution_count": 17,
      "outputs": [
        {
          "output_type": "stream",
          "name": "stdout",
          "text": [
            "7.5\n",
            "<class 'float'>\n"
          ]
        }
      ]
    },
    {
      "cell_type": "markdown",
      "source": [
        "2. Explicit typecasting:\n",
        "\n",
        "Done manually by the programmer using functions like int(), float(), str(), etc"
      ],
      "metadata": {
        "id": "aF7SYSUPx628"
      }
    },
    {
      "cell_type": "code",
      "source": [
        "\n",
        "# float to int\n",
        "a = 7.9\n",
        "b = int(a)\n",
        "print(b)\n",
        "\n",
        "# int to string\n",
        "p = 100\n",
        "q = str(p)\n",
        "print(q)\n",
        "\n",
        "# string to int\n",
        "s = '50'\n",
        "t = int(s)\n",
        "print(t)"
      ],
      "metadata": {
        "colab": {
          "base_uri": "https://localhost:8080/"
        },
        "id": "0Mjj3wYMyKZd",
        "outputId": "288c3033-a26d-4fe8-ade2-d6eb3831e0de"
      },
      "execution_count": 18,
      "outputs": [
        {
          "output_type": "stream",
          "name": "stdout",
          "text": [
            "7\n",
            "100\n",
            "50\n"
          ]
        }
      ]
    },
    {
      "cell_type": "markdown",
      "source": [
        "**6.How do conditional statements work in Python? Illustrate with example**s\n",
        "\n",
        "==>Conditional statements are used to make decisions in a Python program based on certain conditions. The conditions are checked using **if, elif (else if), and else statements.**"
      ],
      "metadata": {
        "id": "gsEQk8KOyfAt"
      }
    },
    {
      "cell_type": "code",
      "source": [
        "x = 3\n",
        "if x % 2 == 0:\n",
        "    print(\"x is even\")\n",
        "else:\n",
        "    print(\"x is odd\")\n"
      ],
      "metadata": {
        "colab": {
          "base_uri": "https://localhost:8080/"
        },
        "id": "LZkH-9Fgy45t",
        "outputId": "ebd510db-0d5f-4014-cb26-fc11873d996e"
      },
      "execution_count": 19,
      "outputs": [
        {
          "output_type": "stream",
          "name": "stdout",
          "text": [
            "x is odd\n"
          ]
        }
      ]
    },
    {
      "cell_type": "code",
      "source": [
        "marks = 85\n",
        "\n",
        "if marks >= 90:\n",
        "    print(\"Grade A\")\n",
        "elif marks >= 75:\n",
        "    print(\"Grade B\")\n",
        "elif marks >= 60:\n",
        "    print(\"Grade C\")\n",
        "else:\n",
        "    print(\"Fail\")\n"
      ],
      "metadata": {
        "colab": {
          "base_uri": "https://localhost:8080/"
        },
        "id": "YTowmnKfy7zG",
        "outputId": "528f10c3-51e8-4251-f895-fa205c47f6f8"
      },
      "execution_count": 20,
      "outputs": [
        {
          "output_type": "stream",
          "name": "stdout",
          "text": [
            "Grade B\n"
          ]
        }
      ]
    },
    {
      "cell_type": "markdown",
      "source": [
        "**7.Describe the different types of loops in Python and their use cases with examples.**\n",
        "\n",
        "==> Loops in Python are used to execute a block of code repeatedly as long as a condition is true. Python mainly provides two types of loops:\n",
        "\n",
        "**1. for loop**\n",
        "Used to iterate over a sequence like list, tuple, string, or range."
      ],
      "metadata": {
        "id": "MVLKA2TIzKeh"
      }
    },
    {
      "cell_type": "code",
      "source": [
        "# Print numbers from 1 to 5 using for loop\n",
        "for i in range(1, 6):\n",
        "    print(i)\n"
      ],
      "metadata": {
        "colab": {
          "base_uri": "https://localhost:8080/"
        },
        "id": "HtydjRLPzuUm",
        "outputId": "c0c7e0e6-aeea-436b-f5b0-185f8f94cb28"
      },
      "execution_count": 21,
      "outputs": [
        {
          "output_type": "stream",
          "name": "stdout",
          "text": [
            "1\n",
            "2\n",
            "3\n",
            "4\n",
            "5\n"
          ]
        }
      ]
    },
    {
      "cell_type": "markdown",
      "source": [
        "2. while loop\n",
        "Used when we want to repeat a block of code as long as a condition is true."
      ],
      "metadata": {
        "id": "-6Zm3nVuz2LM"
      }
    },
    {
      "cell_type": "code",
      "source": [
        "# Print numbers from 1 to 5 using while loop\n",
        "i = 1\n",
        "while i <= 5:\n",
        "    print(i)\n",
        "    i += 1\n"
      ],
      "metadata": {
        "colab": {
          "base_uri": "https://localhost:8080/"
        },
        "id": "GKfqoyMo0Jg-",
        "outputId": "7cfcf6e4-46b7-4cf6-9c21-b3796b34b6a4"
      },
      "execution_count": 22,
      "outputs": [
        {
          "output_type": "stream",
          "name": "stdout",
          "text": [
            "1\n",
            "2\n",
            "3\n",
            "4\n",
            "5\n"
          ]
        }
      ]
    },
    {
      "cell_type": "markdown",
      "source": [
        "3. Nested Loops\n",
        "A loop inside another loop."
      ],
      "metadata": {
        "id": "CCt03eRc0WHI"
      }
    },
    {
      "cell_type": "code",
      "source": [
        "# Print a pattern using nested for loop\n",
        "for i in range(1, 4):\n",
        "    for j in range(1, i+1):\n",
        "        print(\"*\", end=\" \")\n",
        "    print()\n"
      ],
      "metadata": {
        "colab": {
          "base_uri": "https://localhost:8080/"
        },
        "id": "Z71icKnc0YJ1",
        "outputId": "5a10fbec-33aa-4c8f-96c5-357bf465c9b0"
      },
      "execution_count": 23,
      "outputs": [
        {
          "output_type": "stream",
          "name": "stdout",
          "text": [
            "* \n",
            "* * \n",
            "* * * \n"
          ]
        }
      ]
    }
  ]
}